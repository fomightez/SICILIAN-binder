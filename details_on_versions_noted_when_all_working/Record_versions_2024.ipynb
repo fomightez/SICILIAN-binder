{
 "cells": [
  {
   "cell_type": "markdown",
   "id": "1a02168b-b485-4411-8c9b-b090f9737808",
   "metadata": {},
   "source": [
    "# Record of versions of software when things were working September 2024\n",
    "\n",
    "This Jupyter notebook page is for logging versions currently used at a time when everything seems to be working. This tracking should help if something breaks later. One possibility is it can be fixed by pinning versions back to when things were working.\n"
   ]
  },
  {
   "cell_type": "markdown",
   "id": "c259f7bd-3aa6-40c3-872a-0ce59bf24536",
   "metadata": {},
   "source": [
    "------------\n",
    "\n",
    "### Preparation\n",
    "\n",
    "Let's install some packaes to assist in this endeavor.\n",
    "\n",
    "Sebastian Raschka's [watermark](https://github.com/rasbt/watermark) paskage is really nice for this sort of thing. See [here](https://nbviewer.org/github/rasbt/watermark/blob/master/docs/watermark.ipynb) for great documented examples of how to use it.\n",
    "\n",
    "Min RK's [Wurlitzer](https://github.com/minrk/wurlitzer#wurlitzer) will be used to suppress the C-level output from the bendit software."
   ]
  },
  {
   "cell_type": "code",
   "execution_count": 2,
   "id": "43e697a2-a574-4397-998e-aaaaf6f23290",
   "metadata": {},
   "outputs": [
    {
     "name": "stdout",
     "output_type": "stream",
     "text": [
      "Collecting watermark\n",
      "  Downloading watermark-2.5.0-py2.py3-none-any.whl.metadata (1.4 kB)\n",
      "Requirement already satisfied: ipython>=6.0 in /srv/conda/envs/notebook/lib/python3.10/site-packages (from watermark) (8.26.0)\n",
      "Requirement already satisfied: importlib-metadata>=1.4 in /srv/conda/envs/notebook/lib/python3.10/site-packages (from watermark) (8.4.0)\n",
      "Requirement already satisfied: setuptools in /srv/conda/envs/notebook/lib/python3.10/site-packages (from watermark) (72.2.0)\n",
      "Requirement already satisfied: zipp>=0.5 in /srv/conda/envs/notebook/lib/python3.10/site-packages (from importlib-metadata>=1.4->watermark) (3.20.1)\n",
      "Requirement already satisfied: decorator in /srv/conda/envs/notebook/lib/python3.10/site-packages (from ipython>=6.0->watermark) (5.1.1)\n",
      "Requirement already satisfied: jedi>=0.16 in /srv/conda/envs/notebook/lib/python3.10/site-packages (from ipython>=6.0->watermark) (0.19.1)\n",
      "Requirement already satisfied: matplotlib-inline in /srv/conda/envs/notebook/lib/python3.10/site-packages (from ipython>=6.0->watermark) (0.1.7)\n",
      "Requirement already satisfied: prompt-toolkit<3.1.0,>=3.0.41 in /srv/conda/envs/notebook/lib/python3.10/site-packages (from ipython>=6.0->watermark) (3.0.47)\n",
      "Requirement already satisfied: pygments>=2.4.0 in /srv/conda/envs/notebook/lib/python3.10/site-packages (from ipython>=6.0->watermark) (2.18.0)\n",
      "Requirement already satisfied: stack-data in /srv/conda/envs/notebook/lib/python3.10/site-packages (from ipython>=6.0->watermark) (0.6.2)\n",
      "Requirement already satisfied: traitlets>=5.13.0 in /srv/conda/envs/notebook/lib/python3.10/site-packages (from ipython>=6.0->watermark) (5.14.3)\n",
      "Requirement already satisfied: exceptiongroup in /srv/conda/envs/notebook/lib/python3.10/site-packages (from ipython>=6.0->watermark) (1.2.2)\n",
      "Requirement already satisfied: typing-extensions>=4.6 in /srv/conda/envs/notebook/lib/python3.10/site-packages (from ipython>=6.0->watermark) (4.12.2)\n",
      "Requirement already satisfied: pexpect>4.3 in /srv/conda/envs/notebook/lib/python3.10/site-packages (from ipython>=6.0->watermark) (4.9.0)\n",
      "Requirement already satisfied: parso<0.9.0,>=0.8.3 in /srv/conda/envs/notebook/lib/python3.10/site-packages (from jedi>=0.16->ipython>=6.0->watermark) (0.8.4)\n",
      "Requirement already satisfied: ptyprocess>=0.5 in /srv/conda/envs/notebook/lib/python3.10/site-packages (from pexpect>4.3->ipython>=6.0->watermark) (0.7.0)\n",
      "Requirement already satisfied: wcwidth in /srv/conda/envs/notebook/lib/python3.10/site-packages (from prompt-toolkit<3.1.0,>=3.0.41->ipython>=6.0->watermark) (0.2.13)\n",
      "Requirement already satisfied: executing>=1.2.0 in /srv/conda/envs/notebook/lib/python3.10/site-packages (from stack-data->ipython>=6.0->watermark) (2.0.1)\n",
      "Requirement already satisfied: asttokens>=2.1.0 in /srv/conda/envs/notebook/lib/python3.10/site-packages (from stack-data->ipython>=6.0->watermark) (2.4.1)\n",
      "Requirement already satisfied: pure-eval in /srv/conda/envs/notebook/lib/python3.10/site-packages (from stack-data->ipython>=6.0->watermark) (0.2.3)\n",
      "Requirement already satisfied: six>=1.12.0 in /srv/conda/envs/notebook/lib/python3.10/site-packages (from asttokens>=2.1.0->stack-data->ipython>=6.0->watermark) (1.16.0)\n",
      "Downloading watermark-2.5.0-py2.py3-none-any.whl (7.7 kB)\n",
      "Installing collected packages: watermark\n",
      "Successfully installed watermark-2.5.0\n",
      "Note: you may need to restart the kernel to use updated packages.\n",
      "Collecting wurlitzer\n",
      "  Downloading wurlitzer-3.1.1-py3-none-any.whl.metadata (2.5 kB)\n",
      "Downloading wurlitzer-3.1.1-py3-none-any.whl (8.6 kB)\n",
      "Installing collected packages: wurlitzer\n",
      "Successfully installed wurlitzer-3.1.1\n",
      "Note: you may need to restart the kernel to use updated packages.\n"
     ]
    }
   ],
   "source": [
    "%pip install watermark\n",
    "%pip install wurlitzer"
   ]
  },
  {
   "cell_type": "code",
   "execution_count": 3,
   "id": "4b656626-cd17-4093-8b69-b3721641b254",
   "metadata": {},
   "outputs": [],
   "source": [
    "%load_ext watermark"
   ]
  },
  {
   "cell_type": "markdown",
   "id": "9d34d8c3-5d78-43b6-931c-6600d96bfd39",
   "metadata": {},
   "source": [
    "___ "
   ]
  },
  {
   "cell_type": "markdown",
   "id": "51000c7a-5b03-42c0-9082-caf09b8e519d",
   "metadata": {},
   "source": [
    "## Current date and time of running this notebook\n",
    "\n",
    "Assuming 'Run All' as is the intention."
   ]
  },
  {
   "cell_type": "code",
   "execution_count": 4,
   "id": "91804a5a-e97a-435f-afd0-dd81adee5ac5",
   "metadata": {},
   "outputs": [
    {
     "name": "stdout",
     "output_type": "stream",
     "text": [
      "Last updated: Fri Sep 27 2024 21:09:45UTC\n",
      "\n"
     ]
    }
   ],
   "source": [
    "%watermark -u -n -t -z \n",
    "# based on https://nbviewer.org/github/rasbt/watermark/blob/master/docs/watermark.ipynb#Last-updated-date-and-time"
   ]
  },
  {
   "cell_type": "markdown",
   "id": "7fe8e7d0-cfdb-40a7-aa3b-4cc934570d8a",
   "metadata": {},
   "source": [
    "## SICILIAN software itself\n",
    "\n",
    "Curiously, the developers of the BendIt code didn't build in a clear versioning system.   \n",
    "Since they did post the code on GitHub as long as they (or the overseers of GitHub) keep it accessible, something akin to a version indicator can be tracked using the SHA (Secure Hash Algorithm) with the commit being used to clone the software. And so let's document that here do that to try to "
   ]
  },
  {
   "cell_type": "code",
   "execution_count": 5,
   "id": "1ede54ca-e757-4656-8f57-9dd776258e70",
   "metadata": {},
   "outputs": [
    {
     "name": "stdout",
     "output_type": "stream",
     "text": [
      "[Errno 2] No such file or directory: '???????'\n",
      "/home/jovyan\n",
      "below is the SHA of the current repository which was used to fetch in a recent build of the image used to make this container (which I know was today):\n",
      "575baf0e8c0bfac42e10a0bf113152490cb8098e\n",
      "/home/jovyan\n"
     ]
    }
   ],
   "source": [
    "%cd ???????\n",
    "!echo \"below is the SHA of the current repository which was used to fetch in a recent build of the image used to make this container (which I know was today):\"\n",
    "!git log -1 --format=\"%H\" # based on https://stackoverflow.com/a/8216896/8508004\n",
    " # need to reset the working directory back to home for rest of notebook\n",
    "%cd ~"
   ]
  },
  {
   "cell_type": "markdown",
   "id": "19fc0ace-cec6-4298-84b1-9670a1feeb36",
   "metadata": {},
   "source": [
    "You'll see tha corresponds to the SHA version shown [here](https://github.com/salzman-lab/SICILIAN/tree/8bb5ce6c7ccdfadea768902375a3899512ed0608) (note the `8bb5ce6` at the start matches on the page in few places, which has been the version of SICILIAN being used/adapted in all the work so far (see [here](https://github.com/fomightez/SICILIAN-binder/commit/6fa12290fd26cddc9375c3fdbb0599d761b8853a))."
   ]
  },
  {
   "cell_type": "markdown",
   "id": "e14c501a-b6d0-4604-96f6-151b52c49718",
   "metadata": {},
   "source": [
    "## Python Modules imported during running of the Demo Analysis\n",
    "\n",
    "The demonstration will be run and then all the imported software listed, that list will be what the pipeline really uses.   \n",
    "These will be run in two different cells so that most of the output produced running of the notebook can be suppressed by the `%%capture` cell magic from being shown here since were aren't interested in what it produces here. (Note that it takes advatnage of the fact that by default notebooks called with `%run` are run in the current notebook namespace; that's not the case with scripts where you need to add the `-i` flag to get that behavior.)"
   ]
  },
  {
   "cell_type": "code",
   "execution_count": 6,
   "id": "b3a3352e-5b8e-41d2-ac29-9020e802655f",
   "metadata": {},
   "outputs": [
    {
     "ename": "Exception",
     "evalue": "File `'index.ipynb'` not found.",
     "output_type": "error",
     "traceback": [
      "\u001b[0;31m---------------------------------------------------------------------------\u001b[0m",
      "\u001b[0;31mOSError\u001b[0m                                   Traceback (most recent call last)",
      "File \u001b[0;32m/srv/conda/envs/notebook/lib/python3.10/site-packages/IPython/core/magics/execution.py:716\u001b[0m, in \u001b[0;36mExecutionMagics.run\u001b[0;34m(self, parameter_s, runner, file_finder)\u001b[0m\n\u001b[1;32m    715\u001b[0m     fpath \u001b[38;5;241m=\u001b[39m arg_lst[\u001b[38;5;241m0\u001b[39m]\n\u001b[0;32m--> 716\u001b[0m     filename \u001b[38;5;241m=\u001b[39m \u001b[43mfile_finder\u001b[49m\u001b[43m(\u001b[49m\u001b[43mfpath\u001b[49m\u001b[43m)\u001b[49m\n\u001b[1;32m    717\u001b[0m \u001b[38;5;28;01mexcept\u001b[39;00m \u001b[38;5;167;01mIndexError\u001b[39;00m \u001b[38;5;28;01mas\u001b[39;00m e:\n",
      "File \u001b[0;32m/srv/conda/envs/notebook/lib/python3.10/site-packages/IPython/utils/path.py:91\u001b[0m, in \u001b[0;36mget_py_filename\u001b[0;34m(name)\u001b[0m\n\u001b[1;32m     90\u001b[0m         \u001b[38;5;28;01mreturn\u001b[39;00m py_name\n\u001b[0;32m---> 91\u001b[0m \u001b[38;5;28;01mraise\u001b[39;00m \u001b[38;5;167;01mIOError\u001b[39;00m(\u001b[38;5;124m\"\u001b[39m\u001b[38;5;124mFile `\u001b[39m\u001b[38;5;132;01m%r\u001b[39;00m\u001b[38;5;124m` not found.\u001b[39m\u001b[38;5;124m\"\u001b[39m \u001b[38;5;241m%\u001b[39m name)\n",
      "\u001b[0;31mOSError\u001b[0m: File `'index.ipynb'` not found.",
      "\nThe above exception was the direct cause of the following exception:\n",
      "\u001b[0;31mException\u001b[0m                                 Traceback (most recent call last)",
      "Cell \u001b[0;32mIn[6], line 4\u001b[0m\n\u001b[1;32m      1\u001b[0m \u001b[38;5;28;01mfrom\u001b[39;00m \u001b[38;5;21;01mwurlitzer\u001b[39;00m \u001b[38;5;28;01mimport\u001b[39;00m pipes\n\u001b[1;32m      3\u001b[0m \u001b[38;5;28;01mwith\u001b[39;00m pipes() \u001b[38;5;28;01mas\u001b[39;00m (out, err):\n\u001b[0;32m----> 4\u001b[0m     \u001b[43mget_ipython\u001b[49m\u001b[43m(\u001b[49m\u001b[43m)\u001b[49m\u001b[38;5;241;43m.\u001b[39;49m\u001b[43mrun_line_magic\u001b[49m\u001b[43m(\u001b[49m\u001b[38;5;124;43m'\u001b[39;49m\u001b[38;5;124;43mrun\u001b[39;49m\u001b[38;5;124;43m'\u001b[39;49m\u001b[43m,\u001b[49m\u001b[43m \u001b[49m\u001b[38;5;124;43m'\u001b[39;49m\u001b[38;5;124;43mindex.ipynb\u001b[39;49m\u001b[38;5;124;43m'\u001b[39;49m\u001b[43m)\u001b[49m\n\u001b[1;32m      5\u001b[0m     get_ipython()\u001b[38;5;241m.\u001b[39mrun_line_magic(\u001b[38;5;124m'\u001b[39m\u001b[38;5;124mrun\u001b[39m\u001b[38;5;124m'\u001b[39m, \u001b[38;5;124m'\u001b[39m\u001b[38;5;124mDemo_SICILIAN_via_MyBinder_with_human_Chr_21.ipynb\u001b[39m\u001b[38;5;124m'\u001b[39m)\n",
      "File \u001b[0;32m/srv/conda/envs/notebook/lib/python3.10/site-packages/IPython/core/interactiveshell.py:2480\u001b[0m, in \u001b[0;36mInteractiveShell.run_line_magic\u001b[0;34m(self, magic_name, line, _stack_depth)\u001b[0m\n\u001b[1;32m   2478\u001b[0m     kwargs[\u001b[38;5;124m'\u001b[39m\u001b[38;5;124mlocal_ns\u001b[39m\u001b[38;5;124m'\u001b[39m] \u001b[38;5;241m=\u001b[39m \u001b[38;5;28mself\u001b[39m\u001b[38;5;241m.\u001b[39mget_local_scope(stack_depth)\n\u001b[1;32m   2479\u001b[0m \u001b[38;5;28;01mwith\u001b[39;00m \u001b[38;5;28mself\u001b[39m\u001b[38;5;241m.\u001b[39mbuiltin_trap:\n\u001b[0;32m-> 2480\u001b[0m     result \u001b[38;5;241m=\u001b[39m \u001b[43mfn\u001b[49m\u001b[43m(\u001b[49m\u001b[38;5;241;43m*\u001b[39;49m\u001b[43margs\u001b[49m\u001b[43m,\u001b[49m\u001b[43m \u001b[49m\u001b[38;5;241;43m*\u001b[39;49m\u001b[38;5;241;43m*\u001b[39;49m\u001b[43mkwargs\u001b[49m\u001b[43m)\u001b[49m\n\u001b[1;32m   2482\u001b[0m \u001b[38;5;66;03m# The code below prevents the output from being displayed\u001b[39;00m\n\u001b[1;32m   2483\u001b[0m \u001b[38;5;66;03m# when using magics with decorator @output_can_be_silenced\u001b[39;00m\n\u001b[1;32m   2484\u001b[0m \u001b[38;5;66;03m# when the last Python token in the expression is a ';'.\u001b[39;00m\n\u001b[1;32m   2485\u001b[0m \u001b[38;5;28;01mif\u001b[39;00m \u001b[38;5;28mgetattr\u001b[39m(fn, magic\u001b[38;5;241m.\u001b[39mMAGIC_OUTPUT_CAN_BE_SILENCED, \u001b[38;5;28;01mFalse\u001b[39;00m):\n",
      "File \u001b[0;32m/srv/conda/envs/notebook/lib/python3.10/site-packages/IPython/core/magics/execution.py:727\u001b[0m, in \u001b[0;36mExecutionMagics.run\u001b[0;34m(self, parameter_s, runner, file_finder)\u001b[0m\n\u001b[1;32m    725\u001b[0m     \u001b[38;5;28;01mif\u001b[39;00m os\u001b[38;5;241m.\u001b[39mname \u001b[38;5;241m==\u001b[39m \u001b[38;5;124m'\u001b[39m\u001b[38;5;124mnt\u001b[39m\u001b[38;5;124m'\u001b[39m \u001b[38;5;129;01mand\u001b[39;00m re\u001b[38;5;241m.\u001b[39mmatch(\u001b[38;5;124mr\u001b[39m\u001b[38;5;124m\"\u001b[39m\u001b[38;5;124m^\u001b[39m\u001b[38;5;124m'\u001b[39m\u001b[38;5;124m.*\u001b[39m\u001b[38;5;124m'\u001b[39m\u001b[38;5;124m$\u001b[39m\u001b[38;5;124m\"\u001b[39m,fpath):\n\u001b[1;32m    726\u001b[0m         warn(\u001b[38;5;124m'\u001b[39m\u001b[38;5;124mFor Windows, use double quotes to wrap a filename: \u001b[39m\u001b[38;5;132;01m%r\u001b[39;00m\u001b[38;5;124mun \u001b[39m\u001b[38;5;124m\"\u001b[39m\u001b[38;5;124mmypath\u001b[39m\u001b[38;5;130;01m\\\\\u001b[39;00m\u001b[38;5;124mmyfile.py\u001b[39m\u001b[38;5;124m\"\u001b[39m\u001b[38;5;124m'\u001b[39m)\n\u001b[0;32m--> 727\u001b[0m     \u001b[38;5;28;01mraise\u001b[39;00m \u001b[38;5;167;01mException\u001b[39;00m(msg) \u001b[38;5;28;01mfrom\u001b[39;00m \u001b[38;5;21;01me\u001b[39;00m\n\u001b[1;32m    728\u001b[0m \u001b[38;5;28;01mexcept\u001b[39;00m \u001b[38;5;167;01mTypeError\u001b[39;00m:\n\u001b[1;32m    729\u001b[0m     \u001b[38;5;28;01mif\u001b[39;00m fpath \u001b[38;5;129;01min\u001b[39;00m sys\u001b[38;5;241m.\u001b[39mmeta_path:\n",
      "\u001b[0;31mException\u001b[0m: File `'index.ipynb'` not found."
     ]
    }
   ],
   "source": [
    "%%capture\n",
    "from wurlitzer import pipes\n",
    "\n",
    "with pipes() as (out, err):\n",
    "    %run Demo_SICILIAN_via_MyBinder_with_human_Chr_21.ipynb"
   ]
  },
  {
   "cell_type": "code",
   "execution_count": 14,
   "id": "94227b70-f695-47b2-99d0-e8901ea2fe29",
   "metadata": {},
   "outputs": [
    {
     "name": "stdout",
     "output_type": "stream",
     "text": [
      "watermark: 2.5.0\n",
      "wurlitzer: 3.1.1\n",
      "\n"
     ]
    }
   ],
   "source": [
    "%watermark --iversions"
   ]
  },
  {
   "cell_type": "markdown",
   "id": "32f01a5a-007f-4e89-8b70-df3c6eebe346",
   "metadata": {},
   "source": [
    "**Note that this doesn't show all pipeline dependendent packages at this time.** For example I know that `scipy` gets used because of the following line in the script, and yet scipy isn't listed above:\n",
    "\n",
    "```python\n",
    "from scipy.interpolate import Akima1DInterpolator\n",
    "```\n",
    "\n",
    "Likewise, several get imported from `statistics` and `halo` according to these lines: \n",
    "\n",
    "```python\n",
    "from statistics import mean, median, mode, StatisticsError\n",
    "from halo import HaloNotebook as Halo\n",
    "```\n",
    "\n",
    "Turns out this is a known bug presently, see [here](https://github.com/rasbt/watermark/issues/77).\n",
    "\n",
    "**So be sure to check the long list from `pip list` below for the versions associated with those packages:**\n",
    "\n",
    "- scipy\n",
    "- halo\n",
    "\n",
    "(Note that although I have `from statistics import mean, median, mode, StatisticsError`, that's [one of the core libraries in Python 3.7](https://docs.python.org/3.7/library/statistics.html#module-statistics), and so I cannot use a simple regex to collect all the '`from x import y`' examples to look into.)\n",
    "\n",
    "Keeping this section here because it would make a nice concise location for the most pertinent information if this bug is fixed."
   ]
  },
  {
   "cell_type": "code",
   "execution_count": 15,
   "id": "14b5fdd9-b91d-430c-af64-3877f8540e99",
   "metadata": {},
   "outputs": [
    {
     "name": "stdout",
     "output_type": "stream",
     "text": [
      "scipy: 1.13.1\n",
      "halo : not installed\n",
      "\n"
     ]
    }
   ],
   "source": [
    "%watermark -p scipy,halo"
   ]
  },
  {
   "cell_type": "markdown",
   "id": "a58bd7b8-6f5d-42b8-b469-b637287dc2fa",
   "metadata": {},
   "source": [
    "## Python and Machine info"
   ]
  },
  {
   "cell_type": "code",
   "execution_count": 16,
   "id": "3264d327-688b-4e12-86ab-673364898b14",
   "metadata": {},
   "outputs": [
    {
     "name": "stdout",
     "output_type": "stream",
     "text": [
      "Python implementation: CPython\n",
      "Python version       : 3.10.14\n",
      "IPython version      : 8.26.0\n",
      "\n",
      "Compiler    : GCC 12.3.0\n",
      "OS          : Linux\n",
      "Release     : 5.15.0-116-generic\n",
      "Machine     : x86_64\n",
      "Processor   : x86_64\n",
      "CPU cores   : 8\n",
      "Architecture: 64bit\n",
      "\n"
     ]
    }
   ],
   "source": [
    "%watermark -v -m"
   ]
  },
  {
   "cell_type": "code",
   "execution_count": 17,
   "id": "07826df9-604e-40a6-b01b-a58d2a749af1",
   "metadata": {},
   "outputs": [
    {
     "name": "stdout",
     "output_type": "stream",
     "text": [
      "Python implementation: CPython\n",
      "Python version       : 3.10.14\n",
      "IPython version      : 8.26.0\n",
      "\n",
      "Compiler    : GCC 12.3.0\n",
      "OS          : Linux\n",
      "Release     : 5.15.0-116-generic\n",
      "Machine     : x86_64\n",
      "Processor   : x86_64\n",
      "CPU cores   : 8\n",
      "Architecture: 64bit\n",
      "\n",
      "watermark: 2.5.0\n",
      "wurlitzer: 3.1.1\n",
      "\n"
     ]
    }
   ],
   "source": [
    "import watermark\n",
    "print(watermark.watermark(machine=True, globals_=globals(), iversions=True, python=True))"
   ]
  },
  {
   "cell_type": "markdown",
   "id": "fe87f788-d549-4eba-8c40-a1f6fa2456e8",
   "metadata": {},
   "source": [
    "## All pip ('package installer for Python')-installed software present in the environment"
   ]
  },
  {
   "cell_type": "code",
   "execution_count": 18,
   "id": "89afcf06-c804-4b7d-b0e2-2244cf3ee187",
   "metadata": {},
   "outputs": [
    {
     "name": "stdout",
     "output_type": "stream",
     "text": [
      "Package                   Version\n",
      "------------------------- --------------\n",
      "aiohappyeyeballs          2.4.0\n",
      "aiohttp                   3.10.6\n",
      "aiosignal                 1.3.1\n",
      "alembic                   1.13.2\n",
      "annotated-types           0.7.0\n",
      "anyio                     4.4.0\n",
      "argcomplete               3.5.0\n",
      "argon2-cffi               23.1.0\n",
      "argon2-cffi-bindings      21.2.0\n",
      "arrow                     1.3.0\n",
      "asttokens                 2.4.1\n",
      "async_generator           1.10\n",
      "async-lru                 2.0.4\n",
      "async-timeout             4.0.3\n",
      "attrs                     24.2.0\n",
      "Babel                     2.14.0\n",
      "beautifulsoup4            4.12.3\n",
      "bleach                    6.1.0\n",
      "blinker                   1.8.2\n",
      "Brotli                    1.1.0\n",
      "cached-property           1.5.2\n",
      "certifi                   2024.8.30\n",
      "certipy                   0.1.3\n",
      "cffi                      1.17.0\n",
      "charset-normalizer        3.3.2\n",
      "click                     8.1.7\n",
      "comm                      0.2.2\n",
      "contourpy                 1.3.0\n",
      "cryptography              43.0.0\n",
      "cycler                    0.12.1\n",
      "dacite                    1.8.1\n",
      "debugpy                   1.8.5\n",
      "decorator                 5.1.1\n",
      "defusedxml                0.7.1\n",
      "entrypoints               0.4\n",
      "exceptiongroup            1.2.2\n",
      "executing                 2.0.1\n",
      "fastjsonschema            2.20.0\n",
      "fonttools                 4.54.1\n",
      "fqdn                      1.5.1\n",
      "frozenlist                1.4.1\n",
      "greenlet                  3.0.3\n",
      "h11                       0.14.0\n",
      "h2                        4.1.0\n",
      "hpack                     4.0.0\n",
      "htmlmin                   0.1.12\n",
      "httpcore                  1.0.5\n",
      "httpx                     0.27.2\n",
      "hyperframe                6.0.1\n",
      "idna                      3.8\n",
      "ImageHash                 4.3.1\n",
      "importlib_metadata        8.4.0\n",
      "importlib_resources       6.4.4\n",
      "ipykernel                 6.29.5\n",
      "ipython                   8.26.0\n",
      "ipywidgets                8.1.5\n",
      "isoduration               20.11.0\n",
      "jedi                      0.19.1\n",
      "Jinja2                    3.1.4\n",
      "joblib                    1.4.2\n",
      "json5                     0.9.25\n",
      "jsonpointer               3.0.0\n",
      "jsonschema                4.23.0\n",
      "jsonschema-specifications 2023.12.1\n",
      "jupyter_client            8.6.2\n",
      "jupyter_core              5.7.2\n",
      "jupyter-events            0.10.0\n",
      "jupyter-lsp               2.2.5\n",
      "jupyter_offlinenotebook   0.3.1\n",
      "jupyter-resource-usage    1.1.0\n",
      "jupyter-rsession-proxy    2.2.0\n",
      "jupyter_server            2.14.2\n",
      "jupyter_server_proxy      4.4.0\n",
      "jupyter_server_terminals  0.5.3\n",
      "jupyter-shiny-proxy       1.1\n",
      "jupyterhub                5.1.0\n",
      "jupyterlab                4.2.5\n",
      "jupyterlab_pygments       0.3.0\n",
      "jupyterlab_server         2.27.3\n",
      "jupyterlab_widgets        3.0.13\n",
      "kiwisolver                1.4.7\n",
      "llvmlite                  0.43.0\n",
      "Mako                      1.3.5\n",
      "markdown-it-py            3.0.0\n",
      "MarkupSafe                2.1.5\n",
      "matplotlib                3.9.2\n",
      "matplotlib-inline         0.1.7\n",
      "mdurl                     0.1.2\n",
      "mistune                   3.0.2\n",
      "multidict                 6.1.0\n",
      "multimethod               1.12\n",
      "nbclient                  0.10.0\n",
      "nbconvert                 7.16.4\n",
      "nbformat                  5.10.4\n",
      "nest_asyncio              1.6.0\n",
      "networkx                  3.3\n",
      "notebook                  7.2.2\n",
      "notebook_shim             0.2.4\n",
      "numba                     0.60.0\n",
      "numpy                     1.26.4\n",
      "oauthlib                  3.2.2\n",
      "overrides                 7.7.0\n",
      "packaging                 24.1\n",
      "pamela                    1.2.0\n",
      "pandas                    2.2.3\n",
      "pandocfilters             1.5.0\n",
      "parso                     0.8.4\n",
      "patsy                     0.5.6\n",
      "pexpect                   4.9.0\n",
      "phik                      0.12.4\n",
      "pickleshare               0.7.5\n",
      "pillow                    10.4.0\n",
      "pip                       24.2\n",
      "pkgutil_resolve_name      1.3.10\n",
      "platformdirs              4.2.2\n",
      "polars                    0.20.31\n",
      "prometheus_client         0.20.0\n",
      "prompt_toolkit            3.0.47\n",
      "psutil                    5.9.8\n",
      "ptyprocess                0.7.0\n",
      "pure_eval                 0.2.3\n",
      "pyarrow                   16.1.0\n",
      "pycparser                 2.22\n",
      "pydantic                  2.8.2\n",
      "pydantic_core             2.20.1\n",
      "Pygments                  2.18.0\n",
      "PyJWT                     2.9.0\n",
      "pyOpenSSL                 24.2.1\n",
      "pyparsing                 3.1.4\n",
      "pysam                     0.22.1\n",
      "PySocks                   1.7.1\n",
      "python-dateutil           2.9.0\n",
      "python-json-logger        2.0.7\n",
      "pytz                      2024.1\n",
      "PyWavelets                1.7.0\n",
      "PyYAML                    6.0.2\n",
      "pyzmq                     26.2.0\n",
      "referencing               0.35.1\n",
      "requests                  2.32.3\n",
      "rfc3339-validator         0.1.4\n",
      "rfc3986-validator         0.1.1\n",
      "rich                      13.8.1\n",
      "rpds-py                   0.20.0\n",
      "scipy                     1.13.1\n",
      "seaborn                   0.13.2\n",
      "Send2Trash                1.8.3\n",
      "setuptools                72.2.0\n",
      "simpervisor               1.0.0\n",
      "six                       1.16.0\n",
      "skimpy                    0.0.15\n",
      "sniffio                   1.3.1\n",
      "soupsieve                 2.5\n",
      "SQLAlchemy                2.0.32\n",
      "stack-data                0.6.2\n",
      "statsmodels               0.14.3\n",
      "sweetviz                  2.3.1\n",
      "terminado                 0.18.1\n",
      "tinycss2                  1.3.0\n",
      "toml                      0.10.2\n",
      "tomli                     2.0.1\n",
      "tomlkit                   0.13.2\n",
      "tornado                   6.4.1\n",
      "tqdm                      4.66.5\n",
      "traitlets                 5.14.3\n",
      "typeguard                 4.2.1\n",
      "types-python-dateutil     2.9.0.20240821\n",
      "typing_extensions         4.12.2\n",
      "typing-utils              0.1.0\n",
      "tzdata                    2024.2\n",
      "uri-template              1.3.0\n",
      "urllib3                   2.2.2\n",
      "visions                   0.7.6\n",
      "watermark                 2.5.0\n",
      "wcwidth                   0.2.13\n",
      "webcolors                 24.8.0\n",
      "webencodings              0.5.1\n",
      "websocket-client          1.8.0\n",
      "wheel                     0.44.0\n",
      "widgetsnbextension        4.0.13\n",
      "wordcloud                 1.9.3\n",
      "wurlitzer                 3.1.1\n",
      "xmltodict                 0.13.0\n",
      "yarl                      1.12.1\n",
      "ydata-profiling           4.10.0\n",
      "yq                        3.4.3\n",
      "zipp                      3.20.1\n",
      "zstandard                 0.23.0\n"
     ]
    }
   ],
   "source": [
    "!pip list"
   ]
  },
  {
   "cell_type": "markdown",
   "id": "a836f677-9e03-47fe-8517-4356917443dd",
   "metadata": {},
   "source": [
    "## R and R library versions (IF NOT REVEALED ALREADY ABOVE?!?!?)\n"
   ]
  },
  {
   "cell_type": "code",
   "execution_count": 19,
   "id": "4cb10abc-c958-4197-978d-1003f4462150",
   "metadata": {},
   "outputs": [],
   "source": [
    "#TO DO!!!"
   ]
  },
  {
   "cell_type": "markdown",
   "id": "6a238e6b-32d8-4bc2-8c62-fb3b42910469",
   "metadata": {},
   "source": [
    "## Jupyter-associated software versions\n",
    "\n",
    "The ones shown here that aren't touched upon shouldn't cause issues; however, documenting the versions in the active sessions along with others for now."
   ]
  },
  {
   "cell_type": "code",
   "execution_count": 20,
   "id": "47a6cc92-d6ac-4b5f-9d91-fc49f428436b",
   "metadata": {},
   "outputs": [
    {
     "name": "stdout",
     "output_type": "stream",
     "text": [
      "\n",
      " 3.10.14 | packaged by conda-forge | (main, Mar 20 2024, 12:45:18) [GCC 12.3.0]\n",
      "Selected Jupyter core packages...\n",
      "IPython          : 8.26.0\n",
      "ipykernel        : 6.29.5\n",
      "ipywidgets       : 8.1.5\n",
      "jupyter_client   : 8.6.2\n",
      "jupyter_core     : 5.7.2\n",
      "jupyter_server   : 2.14.2\n",
      "jupyterlab       : 4.2.5\n",
      "nbclient         : 0.10.0\n",
      "nbconvert        : 7.16.4\n",
      "nbformat         : 5.10.4\n",
      "notebook         : 7.2.2\n",
      "qtconsole        : not installed\n",
      "traitlets        : 5.14.3\n",
      "usage: jupyter [-h] [--version] [--config-dir] [--data-dir] [--runtime-dir]\n",
      "               [--paths] [--json] [--debug]\n",
      "               [subcommand]\n",
      "\n",
      "Jupyter: Interactive Computing\n",
      "\n",
      "positional arguments:\n",
      "  subcommand     the subcommand to launch\n",
      "\n",
      "options:\n",
      "  -h, --help     show this help message and exit\n",
      "  --version      show the versions of core jupyter packages and exit\n",
      "  --config-dir   show Jupyter config dir\n",
      "  --data-dir     show Jupyter data dir\n",
      "  --runtime-dir  show Jupyter runtime dir\n",
      "  --paths        show all Jupyter paths. Add --json for machine-readable\n",
      "                 format.\n",
      "  --json         output paths as machine-readable json\n",
      "  --debug        output debug information about paths\n",
      "\n",
      "Available subcommands: dejavu events execute kernel kernelspec lab\n",
      "labextension labhub migrate nbconvert notebook run server troubleshoot trust\n",
      "\n",
      "Jupyter command `jupyter-nbextension` not found.\n"
     ]
    }
   ],
   "source": [
    "!python -c \"import sys; print('\\n',sys.version);\" && jupyter --version && jupyter nbextension list && jupyter labextension list"
   ]
  },
  {
   "cell_type": "markdown",
   "id": "2678b6c2-cc54-492a-8925-c28b20e2eaa8",
   "metadata": {},
   "source": [
    "------\n",
    "\n",
    "Enjoy."
   ]
  },
  {
   "cell_type": "code",
   "execution_count": null,
   "id": "e3db46d9-e16b-4a89-a9e6-a930ef0ede75",
   "metadata": {},
   "outputs": [],
   "source": []
  },
  {
   "cell_type": "code",
   "execution_count": null,
   "id": "6fcc3291-b04d-4946-af15-b87e7ee937db",
   "metadata": {},
   "outputs": [],
   "source": []
  }
 ],
 "metadata": {
  "kernelspec": {
   "display_name": "Python 3 (ipykernel)",
   "language": "python",
   "name": "python3"
  },
  "language_info": {
   "codemirror_mode": {
    "name": "ipython",
    "version": 3
   },
   "file_extension": ".py",
   "mimetype": "text/x-python",
   "name": "python",
   "nbconvert_exporter": "python",
   "pygments_lexer": "ipython3",
   "version": "3.10.14"
  }
 },
 "nbformat": 4,
 "nbformat_minor": 5
}
