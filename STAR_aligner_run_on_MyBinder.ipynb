{
 "cells": [
  {
   "cell_type": "markdown",
   "id": "6b57be70-c456-466f-b78d-6c21ec20e8c6",
   "metadata": {},
   "source": [
    "## Run test alignment using STAR Aligner in MyBinder session\n",
    "\n",
    "Start with a session launched from [here](https://github.com/fomightez/millefy-binder). (Should work elsewhere. What I happened to be using because package to use after, SICILIAN, used R and sessions form there have both Python and R."
   ]
  },
  {
   "cell_type": "markdown",
   "id": "f21b9074-5c86-4cbf-9761-613ccab83188",
   "metadata": {
    "tags": []
   },
   "source": [
    "#### Install the STAR Aligner to prepare\n",
    "\n",
    "(The printing to stderr is just to make clear what is going on as code is run because I plan to run this notebook in a demonstration of the SICILIAN software according to https://github.com/salzman-lab/SICILIAN\n",
    "[Dehghannasiri et al 2021 'Specific splice junction detection in single cells with SICILIAN'](https://genomebiology.biomedcentral.com/articles/10.1186/s13059-021-02434-8)(https://github.com/salzman-lab/SICILIAN), and so this markdown context won't be visible when I use `%run STAR_aligner_run_on_MyBinder.ipynb`. The use of stderr then will add that context better there.)"
   ]
  },
  {
   "cell_type": "code",
   "execution_count": 1,
   "id": "6cc35e8f-624f-45d8-9275-5898f0e38e83",
   "metadata": {},
   "outputs": [
    {
     "name": "stdout",
     "output_type": "stream",
     "text": [
      "Retrieving notices: ...working... done\n",
      "Channels:\n",
      " - conda-forge\n",
      " - defaults\n",
      " - bioconda\n",
      "Platform: linux-64\n",
      "Collecting package metadata (repodata.json): done\n",
      "Solving environment: done\n",
      "\n",
      "\n",
      "==> WARNING: A newer version of conda exists. <==\n",
      "    current version: 24.3.0\n",
      "    latest version: 24.5.0\n",
      "\n",
      "Please update conda by running\n",
      "\n",
      "    $ conda update -n base -c conda-forge conda\n",
      "\n",
      "\n",
      "\n",
      "## Package Plan ##\n",
      "\n",
      "  environment location: /srv/conda/envs/notebook\n",
      "\n",
      "  added / updated specs:\n",
      "    - bioconda::star\n",
      "\n",
      "\n",
      "The following packages will be downloaded:\n",
      "\n",
      "    package                    |            build\n",
      "    ---------------------------|-----------------\n",
      "    htslib-1.20                |       h5efdd21_1         2.9 MB  bioconda\n",
      "    openssl-3.3.1              |       h4ab18f5_0         2.8 MB  conda-forge\n",
      "    star-2.7.11b               |       h43eeafb_1         8.1 MB  bioconda\n",
      "    ------------------------------------------------------------\n",
      "                                           Total:        13.7 MB\n",
      "\n",
      "The following NEW packages will be INSTALLED:\n",
      "\n",
      "  htslib             bioconda/linux-64::htslib-1.20-h5efdd21_1 \n",
      "  star               bioconda/linux-64::star-2.7.11b-h43eeafb_1 \n",
      "\n",
      "The following packages will be UPDATED:\n",
      "\n",
      "  openssl                                  3.3.0-h4ab18f5_3 --> 3.3.1-h4ab18f5_0 \n",
      "\n",
      "\n",
      "\n",
      "Downloading and Extracting Packages:\n",
      "star-2.7.11b         | 8.1 MB    |                                       |   0% \n",
      "htslib-1.20          | 2.9 MB    |                                       |   0% \u001b[A\n",
      "\n",
      "star-2.7.11b         | 8.1 MB    |                                       |   0% \u001b[A\u001b[A\n",
      "\n",
      "openssl-3.3.1        | 2.8 MB    | 2                                     |   1% \u001b[A\u001b[A\n",
      "star-2.7.11b         | 8.1 MB    | ##################4                   |  50% \u001b[A\n",
      "htslib-1.20          | 2.9 MB    | ###5                                  |  10% \u001b[A\n",
      "\n",
      "star-2.7.11b         | 8.1 MB    | ###################################9  |  97% \u001b[A\u001b[A\n",
      "htslib-1.20          | 2.9 MB    | ############1                         |  33% \u001b[A\n",
      "\n",
      "openssl-3.3.1        | 2.8 MB    | ##############2                       |  38% \u001b[A\u001b[A\n",
      "\n",
      "openssl-3.3.1        | 2.8 MB    | ##################8                   |  51% \u001b[A\u001b[A\n",
      "\n",
      "openssl-3.3.1        | 2.8 MB    | ###########################2          |  74% \u001b[A\u001b[A\n",
      "\n",
      "openssl-3.3.1        | 2.8 MB    | ##################################### | 100% \u001b[A\u001b[A\n",
      "\n",
      "openssl-3.3.1        | 2.8 MB    | ##################################### | 100% \u001b[A\u001b[A\n",
      "htslib-1.20          | 2.9 MB    | ##################################### | 100% \u001b[A\n",
      "                                                                                \u001b[A\n",
      "                                                                                \u001b[A\n",
      "\n",
      "                                                                                \u001b[A\u001b[A\n",
      "Preparing transaction: done\n",
      "Verifying transaction: done\n",
      "Executing transaction: done\n",
      "\n",
      "Note: you may need to restart the kernel to use updated packages.\n"
     ]
    }
   ],
   "source": [
    "import sys\n",
    "sys.stderr.write(\"Install STAR aligner to prepare\\n\")\n",
    "sys.stderr.write(\"Install is done via the command `%conda install -y bioconda::star`\\n\")\n",
    "%conda install -y bioconda::star"
   ]
  },
  {
   "cell_type": "markdown",
   "id": "94c1f25c-8eca-43ef-859a-60235e14290d",
   "metadata": {},
   "source": [
    "------\n",
    "\n",
    "#### Run a test alignment to demonstrate it works\n",
    "\n",
    "Run the demostration with a very tiny dataset so it will work on MyBinder.\n",
    "\n",
    "1. Create a small FASTA file with a short sequence by running the next two cells. (The first cell is just to make clear what is going on as code is run because I plan to run this notebook in a demonstration of the SICILIAN software according to https://github.com/salzman-lab/SICILIAN\n",
    "[Dehghannasiri et al 2021 'Specific splice junction detection in single cells with SICILIAN'](https://genomebiology.biomedcentral.com/articles/10.1186/s13059-021-02434-8)(https://github.com/salzman-lab/SICILIAN), and so this markdown context won't be visible when I use `%run STAR_aligner_run_on_MyBinder.ipynb`. The use of stderr then will add that context better there.)"
   ]
  },
  {
   "cell_type": "code",
   "execution_count": null,
   "id": "1cd6c714-08b8-418c-94b6-5a7e6f341fbc",
   "metadata": {},
   "outputs": [],
   "source": [
    "sys.stderr.write(\"Run a test alignment to demonstrate it works\\n\")\n",
    "sys.stderr.write(\"1. Create a small FASTA file with a short sequence:\\n\")"
   ]
  },
  {
   "cell_type": "code",
   "execution_count": 2,
   "id": "127ef7c7-07d1-441d-941c-e6a3af762e5c",
   "metadata": {
    "tags": []
   },
   "outputs": [],
   "source": [
    "%%bash\n",
    "echo '>test_seq\n",
    "ACGTGGACGTACCCGTACGTACCCAAGTACGAGTACGTACGGGTACGTTCCACAAGTACGT' > test.fa"
   ]
  },
  {
   "cell_type": "code",
   "execution_count": null,
   "id": "d1ea7741-c511-4bfe-bc59-667ba5661363",
   "metadata": {},
   "outputs": [],
   "source": [
    "cat test.fa"
   ]
  },
  {
   "cell_type": "markdown",
   "id": "d1406914-9ef5-4a19-96b2-4867eecce4d8",
   "metadata": {},
   "source": [
    "2. Run `mkdir test_index` to make the directory to store the index.\n",
    "sys.stderr.write(\"1. Create a small FASTA file with a short sequence:\")"
   ]
  },
  {
   "cell_type": "code",
   "execution_count": 6,
   "id": "29f6d743-212b-40b6-b530-cd5c2d148322",
   "metadata": {},
   "outputs": [
    {
     "name": "stderr",
     "output_type": "stream",
     "text": [
      "2. Run `mkdir test_index` to make the directory to store the index."
     ]
    }
   ],
   "source": [
    "sys.stderr.write(\"2. Run `mkdir test_index` to make the directory to store the index.\")\n",
    "!mkdir test_index"
   ]
  },
  {
   "cell_type": "code",
   "execution_count": 14,
   "id": "02155f15-f4d9-4af7-9f25-0ac9d17c1ce0",
   "metadata": {},
   "outputs": [
    {
     "name": "stdout",
     "output_type": "stream",
     "text": [
      "drwxr-xr-x 2 jovyan jovyan 4.0K Jun  7 16:31 \u001b[0m\u001b[01;34mtest_index\u001b[0m/\n"
     ]
    }
   ],
   "source": [
    "ls -d -lah test_index"
   ]
  },
  {
   "cell_type": "code",
   "execution_count": null,
   "id": "e371b64b-aa10-4277-80ec-a5f7999ded33",
   "metadata": {},
   "outputs": [],
   "source": [
    "#pause to let first steps catch up so stderr is not so out of sync\n",
    "import time\n",
    "time.sleep(1.0)"
   ]
  },
  {
   "cell_type": "markdown",
   "id": "efe55e0a-fc9f-4926-afa1-6452f7d91d95",
   "metadata": {},
   "source": [
    "3. Generate a genome index using this small FASTA file:"
   ]
  },
  {
   "cell_type": "code",
   "execution_count": null,
   "id": "2f937d96-34f8-4873-a758-32b02b3506ff",
   "metadata": {},
   "outputs": [],
   "source": [
    "sys.stderr.write(\"3. Generate a genome index using this small FASTA file:\\n\")\n",
    "#pause to let first steps catch up so stderr is not so out of sync\n",
    "import time\n",
    "time.sleep(1.0)"
   ]
  },
  {
   "cell_type": "code",
   "execution_count": 4,
   "id": "fe4ddead-3b41-4640-90a6-f58a8732e16d",
   "metadata": {
    "tags": []
   },
   "outputs": [
    {
     "name": "stdout",
     "output_type": "stream",
     "text": [
      "\t/srv/conda/envs/notebook/bin/STAR-avx2 --runMode genomeGenerate --genomeFastaFiles test.fa --genomeDir test_index --genomeSAindexNbases 1\n",
      "\tSTAR version: 2.7.11b   compiled: 2024-03-19T08:38:59+0000 :/opt/conda/conda-bld/star_1710837244939/work/source\n",
      "Jun 06 18:04:43 ..... started STAR run\n",
      "Jun 06 18:04:43 ... starting to generate Genome files\n",
      "Jun 06 18:04:43 ... starting to sort Suffix Array. This may take a long time...\n",
      "Jun 06 18:04:43 ... sorting Suffix Array chunks and saving them to disk...\n",
      "Jun 06 18:04:43 ... loading chunks from disk, packing SA...\n",
      "Jun 06 18:04:43 ... finished generating suffix array\n",
      "Jun 06 18:04:43 ... generating Suffix Array index\n",
      "Jun 06 18:04:43 ... completed Suffix Array index\n",
      "Jun 06 18:04:43 ... writing Genome to disk ...\n",
      "Jun 06 18:04:43 ... writing Suffix Array to disk ...\n",
      "Jun 06 18:04:43 ... writing SAindex to disk\n",
      "Jun 06 18:04:43 ..... finished successfully\n"
     ]
    }
   ],
   "source": [
    "%%bash\n",
    "STAR --runMode genomeGenerate \\\n",
    "     --genomeFastaFiles test.fa \\\n",
    "     --genomeDir test_index \\\n",
    "     --genomeSAindexNbases 1"
   ]
  },
  {
   "cell_type": "markdown",
   "id": "46c7d580-ad93-4036-924e-b1886e7295f5",
   "metadata": {},
   "source": [
    "4. Create a small FASTQ file with a few reads from the test sequence:"
   ]
  },
  {
   "cell_type": "code",
   "execution_count": null,
   "id": "bc3a3837-69ff-4dd4-9c51-33f538377258",
   "metadata": {},
   "outputs": [],
   "source": [
    "sys.stderr.write(\"4. Create a small FASTQ file with a few reads from the test sequence:\\n\")"
   ]
  },
  {
   "cell_type": "code",
   "execution_count": 6,
   "id": "40a08d7c-91b9-4f4e-bdef-0da603411e10",
   "metadata": {},
   "outputs": [],
   "source": [
    "%%bash\n",
    "echo '@read1\n",
    "GTACCCAAGTACGAGTACG\n",
    "+\n",
    "AAAAAAAAAAAAAAAAAAA' > test.fq"
   ]
  },
  {
   "cell_type": "markdown",
   "id": "05b68c61-02d4-463f-bb5e-55a7da44b72b",
   "metadata": {},
   "source": [
    "5. Run the alignment using the small test files:"
   ]
  },
  {
   "cell_type": "code",
   "execution_count": null,
   "id": "a0c66ae4-b39c-4d00-9a45-9c8835516233",
   "metadata": {},
   "outputs": [],
   "source": [
    "sys.stderr.write(\"5. Run the alignment using the small test files:\\n\")"
   ]
  },
  {
   "cell_type": "code",
   "execution_count": 8,
   "id": "c4c7a49e-b6f6-41f7-8918-259dfdce1fab",
   "metadata": {},
   "outputs": [
    {
     "name": "stdout",
     "output_type": "stream",
     "text": [
      "\t/srv/conda/envs/notebook/bin/STAR-avx2 --runMode alignReads --genomeDir test_index --readFilesIn test.fq --outFileNamePrefix test_output\n",
      "\tSTAR version: 2.7.11b   compiled: 2024-03-19T08:38:59+0000 :/opt/conda/conda-bld/star_1710837244939/work/source\n",
      "Jun 06 18:05:16 ..... started STAR run\n",
      "Jun 06 18:05:16 ..... loading genome\n",
      "Jun 06 18:05:16 ..... started mapping\n",
      "Jun 06 18:05:16 ..... finished mapping\n",
      "Jun 06 18:05:16 ..... finished successfully\n"
     ]
    }
   ],
   "source": [
    "%%bash\n",
    "STAR --runMode alignReads \\\n",
    "     --genomeDir test_index \\\n",
    "     --readFilesIn test.fq \\\n",
    "     --outFileNamePrefix test_output"
   ]
  },
  {
   "cell_type": "code",
   "execution_count": null,
   "id": "6ac48097-5f13-4a76-9f2c-54bf5b8fa56b",
   "metadata": {},
   "outputs": [],
   "source": [
    "sys.stderr.write(\"SHOW THE FILES GENERATED BY ALL THAT AND THE ALIGNING STEP.\\n\")"
   ]
  },
  {
   "cell_type": "code",
   "execution_count": 9,
   "id": "bd562a91-4811-43e1-b850-379b9413d4b2",
   "metadata": {
    "tags": []
   },
   "outputs": [
    {
     "name": "stdout",
     "output_type": "stream",
     "text": [
      "total 408K\n",
      "drwxr-x--- 1 jovyan jovyan 4.0K Jun  6 18:05 \u001b[0m\u001b[01;34m.\u001b[0m/\n",
      "drwxr-xr-x 1 root   root     20 Jun  3 15:18 \u001b[01;34m..\u001b[0m/\n",
      "-rw-r--r-- 1 jovyan jovyan  220 Jan  6  2022 .bash_logout\n",
      "-rw-r--r-- 1 jovyan jovyan 3.7K Jan  6  2022 .bashrc\n",
      "drwxr-xr-x 1 jovyan jovyan   23 Jun  3 15:14 \u001b[01;34mbinder\u001b[0m/\n",
      "drwxr-xr-x 1 jovyan jovyan   19 Jun  3 15:14 \u001b[01;34m.cache\u001b[0m/\n",
      "drwxrwsr-x 1 jovyan jovyan   30 Jun  3 15:16 \u001b[01;34m.conda\u001b[0m/\n",
      "drwxr-xr-x 8 jovyan jovyan  180 Jun  3 15:14 \u001b[01;34m.git\u001b[0m/\n",
      "drwxr-xr-x 3 jovyan jovyan   23 Jun  3 15:14 \u001b[01;34m.github\u001b[0m/\n",
      "drwxr-xr-x 2 jovyan jovyan   96 Jun  6 18:03 \u001b[01;34m.ipynb_checkpoints\u001b[0m/\n",
      "drwxr-xr-x 1 jovyan jovyan   29 Jun  6 18:03 \u001b[01;34m.ipython\u001b[0m/\n",
      "drwxr-xr-x 3 jovyan jovyan   33 Jun  6 18:02 \u001b[01;34m.jupyter\u001b[0m/\n",
      "-rw-r--r-- 1 jovyan jovyan 7.9K Jun  6 18:05 .jupyter-server-log.txt\n",
      "drwxr-xr-x 1 jovyan jovyan   19 Jun  3 15:20 \u001b[01;34m.local\u001b[0m/\n",
      "drwxr-xr-x 3 jovyan jovyan   19 Jun  6 18:02 \u001b[01;34m.npm\u001b[0m/\n",
      "-rw-r--r-- 1 jovyan jovyan  807 Jan  6  2022 .profile\n",
      "-rw-r--r-- 1 jovyan jovyan  17K Jun  3 15:14 README.md\n",
      "-rw-r--r-- 1 jovyan jovyan  16K Jun  6 18:05 STAR_aligner_run_on_MyBinder.ipynb\n",
      "-rw-r--r-- 1 jovyan jovyan   72 Jun  6 18:04 test.fa\n",
      "-rw-r--r-- 1 jovyan jovyan   49 Jun  6 18:05 test.fq\n",
      "drwxr-xr-x 2 jovyan jovyan  173 Jun  6 18:04 \u001b[01;34mtest_index\u001b[0m/\n",
      "-rw-r--r-- 1 jovyan jovyan 180K Jun  3 15:20 test_millefy.ipynb\n",
      "-rw-r--r-- 1 jovyan jovyan 142K Jun  3 15:14 test_millefy_with_included_bam_files.ipynb\n",
      "-rw-r--r-- 1 jovyan jovyan  481 Jun  6 18:05 test_outputAligned.out.sam\n",
      "-rw-r--r-- 1 jovyan jovyan 2.0K Jun  6 18:05 test_outputLog.final.out\n",
      "-rw-r--r-- 1 jovyan jovyan 3.7K Jun  6 18:05 test_outputLog.out\n",
      "-rw-r--r-- 1 jovyan jovyan  246 Jun  6 18:05 test_outputLog.progress.out\n",
      "-rw-r--r-- 1 jovyan jovyan    0 Jun  6 18:05 test_outputSJ.out.tab\n"
     ]
    }
   ],
   "source": [
    "ls -lah"
   ]
  },
  {
   "cell_type": "markdown",
   "id": "18cffa5b-f5ca-439e-a2f8-70bcc49a98f6",
   "metadata": {},
   "source": [
    "---------\n",
    "\n",
    "#### Examine results to see it worked"
   ]
  },
  {
   "cell_type": "code",
   "execution_count": 10,
   "id": "a0b5f1eb-9498-44be-86f7-dfca6fdc6c9c",
   "metadata": {
    "tags": []
   },
   "outputs": [
    {
     "name": "stdout",
     "output_type": "stream",
     "text": [
      "                                 Started job on |\tJun 06 18:05:16\n",
      "                             Started mapping on |\tJun 06 18:05:16\n",
      "                                    Finished on |\tJun 06 18:05:16\n",
      "       Mapping speed, Million of reads per hour |\tinf\n",
      "\n",
      "                          Number of input reads |\t1\n",
      "                      Average input read length |\t19\n",
      "                                    UNIQUE READS:\n",
      "                   Uniquely mapped reads number |\t1\n",
      "                        Uniquely mapped reads % |\t100.00%\n",
      "                          Average mapped length |\t19.00\n",
      "                       Number of splices: Total |\t0\n",
      "            Number of splices: Annotated (sjdb) |\t0\n",
      "                       Number of splices: GT/AG |\t0\n",
      "                       Number of splices: GC/AG |\t0\n",
      "                       Number of splices: AT/AC |\t0\n",
      "               Number of splices: Non-canonical |\t0\n",
      "                      Mismatch rate per base, % |\t0.00%\n",
      "                         Deletion rate per base |\t0.00%\n",
      "                        Deletion average length |\t0.00\n",
      "                        Insertion rate per base |\t0.00%\n",
      "                       Insertion average length |\t0.00\n",
      "                             MULTI-MAPPING READS:\n",
      "        Number of reads mapped to multiple loci |\t0\n",
      "             % of reads mapped to multiple loci |\t0.00%\n",
      "        Number of reads mapped to too many loci |\t0\n",
      "             % of reads mapped to too many loci |\t0.00%\n",
      "                                  UNMAPPED READS:\n",
      "  Number of reads unmapped: too many mismatches |\t0\n",
      "       % of reads unmapped: too many mismatches |\t0.00%\n",
      "            Number of reads unmapped: too short |\t0\n",
      "                 % of reads unmapped: too short |\t0.00%\n",
      "                Number of reads unmapped: other |\t0\n",
      "                     % of reads unmapped: other |\t0.00%\n",
      "                                  CHIMERIC READS:\n",
      "                       Number of chimeric reads |\t0\n",
      "                            % of chimeric reads |\t0.00%\n"
     ]
    }
   ],
   "source": [
    "sys.stderr.write(\"Examine results to see it worked\\n\")\n",
    "sys.stderr.write(\"Results in 'test_outputLog.final.out'\\n\")\n",
    "!cat test_outputLog.final.out"
   ]
  },
  {
   "cell_type": "code",
   "execution_count": 11,
   "id": "df78d3eb-561a-454e-b04e-519b3f2b69b0",
   "metadata": {
    "tags": []
   },
   "outputs": [
    {
     "name": "stdout",
     "output_type": "stream",
     "text": [
      "@HD\tVN:1.4\n",
      "@SQ\tSN:test_seq\tLN:61\n",
      "@PG\tID:STAR\tPN:STAR\tVN:2.7.11b\tCL:/srv/conda/envs/notebook/bin/STAR-avx2   --runMode alignReads      --genomeDir test_index   --readFilesIn test.fq      --outFileNamePrefix test_output\n",
      "@CO\tuser command line: /srv/conda/envs/notebook/bin/STAR-avx2 --runMode alignReads --genomeDir test_index --readFilesIn test.fq --outFileNamePrefix test_output\n",
      "read1\t0\ttest_seq\t19\t255\t19M\t*\t0\t0\tGTACCCAAGTACGAGTACG\tAAAAAAAAAAAAAAAAAAA\tNH:i:1\tHI:i:1\tAS:i:18\tnM:i:0\n"
     ]
    }
   ],
   "source": [
    "sys.stderr.write(\"Results in 'test_outputAligned.out.sam'\")\n",
    "!cat test_outputAligned.out.sam "
   ]
  }
 ],
 "metadata": {
  "kernelspec": {
   "display_name": "Python 3 (ipykernel)",
   "language": "python",
   "name": "python3"
  },
  "language_info": {
   "codemirror_mode": {
    "name": "ipython",
    "version": 3
   },
   "file_extension": ".py",
   "mimetype": "text/x-python",
   "name": "python",
   "nbconvert_exporter": "python",
   "pygments_lexer": "ipython3",
   "version": "3.10.14"
  }
 },
 "nbformat": 4,
 "nbformat_minor": 5
}
